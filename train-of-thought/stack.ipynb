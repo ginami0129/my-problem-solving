{
 "cells": [
  {
   "cell_type": "markdown",
   "metadata": {},
   "source": [
    "## 리스트로 구현된 스택"
   ]
  },
  {
   "cell_type": "markdown",
   "metadata": {},
   "source": [
    "스택을 일반화 시키면 리스트 자료구조이다.   \n",
    "리스트는 삽입삭제가 위치에 관계없이 일어나지만, 스택은 맨 처음에서만 삽입삭제가 일어나기 때문이다."
   ]
  },
  {
   "cell_type": "markdown",
   "metadata": {},
   "source": [
    "### 스택의 초기화\n",
    "리스트로 구현되기 떄문에 리스트를 생성해준다."
   ]
  },
  {
   "cell_type": "code",
   "execution_count": 1,
   "metadata": {},
   "outputs": [
    {
     "name": "stdout",
     "output_type": "stream",
     "text": [
      "0\n"
     ]
    }
   ],
   "source": [
    "list<int> L;\n",
    "cout << L.size() << endl;"
   ]
  },
  {
   "cell_type": "markdown",
   "metadata": {},
   "source": [
    "### 스택의 push 연산\n",
    "1. 삽입하고자하는 값을 입력받는다.\n",
    "2. 리스트의 0번 인덱스에 삽입연산을 수행한다."
   ]
  },
  {
   "cell_type": "code",
   "execution_count": 2,
   "metadata": {},
   "outputs": [],
   "source": [
    "int item = 1;\n",
    "L.insert(L.begin(),item);"
   ]
  },
  {
   "cell_type": "code",
   "execution_count": 3,
   "metadata": {},
   "outputs": [
    {
     "name": "stdout",
     "output_type": "stream",
     "text": [
      "1\n",
      "1\n"
     ]
    }
   ],
   "source": [
    "cout << L.size() << endl;"
   ]
  },
  {
   "cell_type": "markdown",
   "metadata": {},
   "source": [
    "### 스택의 pop 연산\n",
    "1. 리스트의 0번인덱스의 항목을 삭제\n",
    "2. 삭제한 항목 반환"
   ]
  },
  {
   "cell_type": "code",
   "execution_count": 4,
   "metadata": {},
   "outputs": [],
   "source": [
    "int result = L.Front()\n",
    "L.erase(L.begin());"
   ]
  },
  {
   "cell_type": "code",
   "execution_count": 5,
   "metadata": {},
   "outputs": [
    {
     "name": "stdout",
     "output_type": "stream",
     "text": [
      "0\n"
     ]
    }
   ],
   "source": [
    "cout << L.size() << endl;"
   ]
  },
  {
   "cell_type": "markdown",
   "metadata": {},
   "source": [
    "* * *"
   ]
  },
  {
   "cell_type": "markdown",
   "metadata": {},
   "source": [
    "### 리스트로 구현한 스택 코드\n",
    "```\n",
    "#include <list>\n",
    "#include <iostream>\n",
    "#include <string>\n",
    "using namespace std;\n",
    "\n",
    "class Stack {\n",
    " public:\n",
    "  Stack();\n",
    "  Stack(const Stack &S);\n",
    "  ~Stack();\n",
    "  void Push(int item);\n",
    "  int Pop();\n",
    "  int Top();\n",
    "  int Size();\n",
    "  bool IsEmpty();\n",
    " private:\n",
    "  list<int> L;\n",
    "};\n",
    "\n",
    "// 스택 초기화함수\n",
    "// 리스트를 생성한다.-> 멤버변수로 선언 생성할필요 없음\n",
    "Stack::Stack() {}\n",
    "// 스택 깊은복사함수\n",
    "// 리스트 깊은복사 구현되어있기 때문에 그냥 대입\n",
    "Stack::Stack(const Stack &S) {\n",
    "  L = S.L;\n",
    "}\n",
    "// 스택 소멸자함수\n",
    "// 리스트에 구현되어있기때문에 아무것도 할필요 없음\n",
    "Stack::~Stack() {}\n",
    "// 스택 Push 연산 함수\n",
    "// 1. 삽입하고자하는 값을 입력받는다.\n",
    "// 2. 리스트의 0번 인덱스에 삽입연산을 수행한다.\n",
    "void Stack::Push(int item) {\n",
    "  L.insert(L.begin(), item);\n",
    "}\n",
    "// 스택 Pop 연산 함수\n",
    "// 1. 리스트의 0번인덱스의 항목을 삭제\n",
    "// 2. 삭제한 항목 반환\n",
    "int Stack::Pop() {\n",
    "  if (IsEmpty()) return -1;\n",
    "  int result = L.front();\n",
    "  L.erase(L.begin());\n",
    "  return result;\n",
    "}\n",
    "// 스택에서 가장위에있는 원소 출력함수\n",
    "int Stack::Top() {\n",
    "  return IsEmpty() ? -1 : L.front();\n",
    "}\n",
    "// 스택에 들어있는 원소의 개수 알려주는 함수\n",
    "int Stack::Size() {\n",
    "  return L.size();\n",
    "}\n",
    "// 스택 비어있는지 확인하는함수\n",
    "// 리스트가 비어있는지 확인한다.\n",
    "bool Stack::IsEmpty() {\n",
    "  return L.empty();\n",
    "}\n",
    "```"
   ]
  },
  {
   "cell_type": "markdown",
   "metadata": {},
   "source": [
    "### 스택을 이용하여 [백준문제](https://www.acmicpc.net/problem/10828)를 풀어보았다.   "
   ]
  },
  {
   "cell_type": "markdown",
   "metadata": {},
   "source": [
    "    스택 연산을 구현하는 문제이다.\n",
    "    연산 구현은 어렵지 않았다.\n",
    "    입력된 명령어를 문자열로 받아 숫자를 뽑아내는 과정이있어 귀찮았다.\n",
    "    find 명령어는 문자열을 찾아 시작 인덱슬르 반환한는 것이다.\n",
    "    stoi = string to int 의 약자로 형변환 함수이다.\n",
    "    substring은 부분 문자열을 만드는 함수이다."
   ]
  },
  {
   "cell_type": "code",
   "execution_count": null,
   "metadata": {},
   "outputs": [],
   "source": [
    "#include <list>\n",
    "#include <iostream>\n",
    "#include <string>\n",
    "using namespace std;\n",
    "\n",
    "class Stack {\n",
    " public:\n",
    "  Stack();\n",
    "  Stack(const Stack &S);\n",
    "  ~Stack();\n",
    "  void Push(int item);\n",
    "  int Pop();\n",
    "  int Top();\n",
    "  int Size();\n",
    "  bool IsEmpty();\n",
    " private:\n",
    "  list<int> L;\n",
    "};\n",
    "\n",
    "// 스택 초기화함수\n",
    "// 리스트를 생성한다.-> 멤버변수로 선언 생성할필요 없음\n",
    "Stack::Stack() {}\n",
    "// 스택 깊은복사함수\n",
    "// 리스트 깊은복사 구현되어있기 때문에 그냥 대입\n",
    "Stack::Stack(const Stack &S) {\n",
    "  L = S.L;\n",
    "}\n",
    "// 스택 소멸자함수\n",
    "// 리스트에 구현되어있기때문에 아무것도 할필요 없음\n",
    "Stack::~Stack() {}\n",
    "// 스택 Push 연산 함수\n",
    "// 1. 삽입하고자하는 값을 입력받는다.\n",
    "// 2. 리스트의 0번 인덱스에 삽입연산을 수행한다.\n",
    "void Stack::Push(int item) {\n",
    "  L.insert(L.begin(), item);\n",
    "}\n",
    "// 스택 Pop 연산 함수\n",
    "// 1. 리스트의 0번인덱스의 항목을 삭제\n",
    "// 2. 삭제한 항목 반환\n",
    "int Stack::Pop() {\n",
    "  if (IsEmpty()) return -1;\n",
    "  int result = L.front();\n",
    "  L.erase(L.begin());\n",
    "  return result;\n",
    "}\n",
    "// 스택에서 가장위에있는 원소 출력함수\n",
    "int Stack::Top() {\n",
    "  return IsEmpty() ? -1 : L.front();\n",
    "}\n",
    "// 스택에 들어있는 원소의 개수 알려주는 함수\n",
    "int Stack::Size() {\n",
    "  return L.size();\n",
    "}\n",
    "// 스택 비어있는지 확인하는함수\n",
    "// 리스트가 비어있는지 확인한다.\n",
    "bool Stack::IsEmpty() {\n",
    "  return L.empty();\n",
    "}\n",
    "\n",
    "int main() {\n",
    "  int N;\n",
    "  Stack s;\n",
    "  string command;\n",
    "  ios_base::sync_with_stdio(false);\n",
    "  cin.tie(NULL);\n",
    "  cin >> N;\n",
    "  cin.get();\n",
    "  while (N) {\n",
    "    getline(cin, command);\n",
    "    if (command.find(\"push\") == 0) {\n",
    "      s.Push(stoi(command.substr(5)));\n",
    "    } else if (command.find(\"pop\") == 0) {\n",
    "      cout << s.Pop() << '\\n';\n",
    "    } else if (command.find(\"size\") == 0) {\n",
    "      cout << s.Size() << '\\n';\n",
    "    } else if (command.find(\"empty\") == 0) {\n",
    "      cout << s.IsEmpty() << '\\n';\n",
    "    } else if (command.find(\"top\") == 0) {\n",
    "      cout << s.Top() << '\\n';\n",
    "    }\n",
    "    --N;\n",
    "  }\n",
    "}"
   ]
  }
 ],
 "metadata": {
  "kernelspec": {
   "display_name": "ROOT C++",
   "language": "c++",
   "name": "root"
  },
  "language_info": {
   "codemirror_mode": "text/x-c++src",
   "file_extension": ".C",
   "mimetype": " text/x-c++src",
   "name": "c++"
  }
 },
 "nbformat": 4,
 "nbformat_minor": 4
}

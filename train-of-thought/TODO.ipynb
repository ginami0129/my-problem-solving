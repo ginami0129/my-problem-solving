{
 "cells": [
  {
   "cell_type": "markdown",
   "metadata": {},
   "source": [
    "***\n",
    "# 20200614\n",
    "### 완료\n",
    "    1.DFS 알고리즘 이해\n",
    "    2.백준 1260번 문제 DFS부분 구현\n",
    "***\n",
    "### 예정\n",
    "    1. BFS 알고리즘 이해\n",
    "    2. 백준 1260번 문제 BFS부분 구현 및 풀이"
   ]
  },
  {
   "cell_type": "markdown",
   "metadata": {},
   "source": [
    "***\n",
    "# 20200616\n",
    "### 완료\n",
    "    1. BFS 알고리즘 이해\n",
    "    2. 백준 1260번 문제 BFS부분 구현 및 풀이완료\n",
    "***\n",
    "### 예정\n",
    "    1. DFS BFS 정리\n",
    "    2. 백준 1260번 문제 정리\n",
    "    3. DS2018 assignment1 1.5번 풀기"
   ]
  },
  {
   "cell_type": "code",
   "execution_count": null,
   "metadata": {},
   "outputs": [],
   "source": []
  }
 ],
 "metadata": {
  "kernelspec": {
   "display_name": "ROOT C++",
   "language": "c++",
   "name": "root"
  },
  "language_info": {
   "codemirror_mode": "text/x-c++src",
   "file_extension": ".C",
   "mimetype": " text/x-c++src",
   "name": "c++"
  }
 },
 "nbformat": 4,
 "nbformat_minor": 4
}

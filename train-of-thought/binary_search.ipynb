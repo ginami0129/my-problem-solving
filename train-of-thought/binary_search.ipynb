{
 "cells": [
  {
   "cell_type": "code",
   "execution_count": 67,
   "metadata": {},
   "outputs": [],
   "source": [
    "int A[7] = { 17, 28, 43, 67, 88, 92, 100 };\n",
    "int key = 43;\n",
    "int first = 0;\n",
    "int last = 6;"
   ]
  },
  {
   "cell_type": "code",
   "execution_count": 68,
   "metadata": {},
   "outputs": [
    {
     "name": "stdout",
     "output_type": "stream",
     "text": [
      "67\n"
     ]
    }
   ],
   "source": [
    "int mid = (first + last) / 2;\n",
    "cout << A[mid] << endl;"
   ]
  },
  {
   "cell_type": "code",
   "execution_count": 69,
   "metadata": {},
   "outputs": [
    {
     "name": "stdout",
     "output_type": "stream",
     "text": [
      "false\n"
     ]
    }
   ],
   "source": [
    "cout << boolalpha << (A[mid] == key) << endl;"
   ]
  },
  {
   "cell_type": "code",
   "execution_count": 70,
   "metadata": {},
   "outputs": [
    {
     "name": "stdout",
     "output_type": "stream",
     "text": [
      "17 28 43 "
     ]
    }
   ],
   "source": [
    "if (A[mid] < key) {\n",
    "    first = mid + 1;\n",
    "} else {\n",
    "    last = mid - 1;\n",
    "}\n",
    "for(int i = first; i <= last; ++i) {\n",
    "    cout << A[i] << \" \";\n",
    "}"
   ]
  },
  {
   "cell_type": "code",
   "execution_count": 71,
   "metadata": {},
   "outputs": [
    {
     "name": "stdout",
     "output_type": "stream",
     "text": [
      "28\n"
     ]
    }
   ],
   "source": [
    "mid = (first + last) / 2;\n",
    "cout <<A[mid] << endl;"
   ]
  },
  {
   "cell_type": "code",
   "execution_count": 72,
   "metadata": {},
   "outputs": [
    {
     "name": "stdout",
     "output_type": "stream",
     "text": [
      "false\n"
     ]
    }
   ],
   "source": [
    "cout << boolalpha << (A[mid] == key) << endl;"
   ]
  },
  {
   "cell_type": "code",
   "execution_count": 73,
   "metadata": {},
   "outputs": [
    {
     "name": "stdout",
     "output_type": "stream",
     "text": [
      "43 "
     ]
    }
   ],
   "source": [
    "if (A[mid] < key) {\n",
    "    first = mid + 1;\n",
    "} else {\n",
    "    last = mid - 1;\n",
    "}\n",
    "for(int i = first; i <= last; ++i) {\n",
    "    cout << A[i] << \" \";\n",
    "}"
   ]
  },
  {
   "cell_type": "code",
   "execution_count": 74,
   "metadata": {},
   "outputs": [
    {
     "name": "stdout",
     "output_type": "stream",
     "text": [
      "43\n",
      "true\n",
      "2 2\n"
     ]
    }
   ],
   "source": [
    "mid = (first + last) / 2;\n",
    "cout << A[mid] << endl;\n",
    "cout << boolalpha << (A[mid] == key) << endl;\n",
    "cout << first << \" \" << last << endl;"
   ]
  },
  {
   "cell_type": "code",
   "execution_count": 86,
   "metadata": {},
   "outputs": [
    {
     "name": "stdout",
     "output_type": "stream",
     "text": [
      "100\n"
     ]
    }
   ],
   "source": [
    "first = 0; last = 6;\n",
    "key = 100;\n",
    "while(first <= last) {\n",
    "    mid = (first + last) / 2;\n",
    "    if(A[mid] == key) {\n",
    "        cout << A[mid] << endl;\n",
    "        return;\n",
    "    } else if (A[mid] < key) {\n",
    "        first = mid + 1;\n",
    "    } else {\n",
    "        last = mid - 1;\n",
    "    }\n",
    "    mid = (first + last) / 2;\n",
    "}\n",
    "cout << \"None\" << endl;"
   ]
  },
  {
   "cell_type": "code",
   "execution_count": 87,
   "metadata": {},
   "outputs": [],
   "source": [
    "int BinarySearch(int A[], int start, int end, int key) {\n",
    "    int mid = 0;\n",
    "    while (start <= end) {\n",
    "        mid = (start + end) / 2;\n",
    "        if (A[mid] < key) {\n",
    "            start = mid + 1;\n",
    "        } else if (A[mid] > key) {\n",
    "            end = mid - 1;\n",
    "        } else {\n",
    "            return mid;\n",
    "        }\n",
    "    }\n",
    "    return -1;\n",
    "}"
   ]
  },
  {
   "cell_type": "code",
   "execution_count": 89,
   "metadata": {},
   "outputs": [
    {
     "name": "stdout",
     "output_type": "stream",
     "text": [
      "43\n"
     ]
    }
   ],
   "source": [
    "cout << A[BinarySearch(A, 0, 6, 43)] << endl;"
   ]
  },
  {
   "cell_type": "code",
   "execution_count": 93,
   "metadata": {},
   "outputs": [],
   "source": [
    "// bool BinarySearch(int A[], int start, int end, int key) {\n",
    "//   int mid = (start + end) / 2;\n",
    "//   if (start > end) {\n",
    "//     return false;\n",
    "//   } else if (A[mid] == key) {\n",
    "//     return true;\n",
    "//   } else if (A[mid] < key) {\n",
    "//     return BinarySearch(A, mid + 1, end, key);\n",
    "//   } else {\n",
    "//     return BinarySearch(A, start, mid - 1, key);\n",
    "//   }\n",
    "// }"
   ]
  },
  {
   "cell_type": "code",
   "execution_count": 95,
   "metadata": {},
   "outputs": [],
   "source": [
    "int BinarySearch(int A[], int start, int end, int key) {\n",
    "    int mid = 0;\n",
    "    while (start <= end) {\n",
    "        mid = (start + end) / 2;\n",
    "        if (A[mid] < key) {\n",
    "            start = mid;\n",
    "        } else if (A[mid] > key) {\n",
    "            end = mid;\n",
    "        } else {\n",
    "            return mid;\n",
    "        }\n",
    "    }\n",
    "    return -1;\n",
    "}"
   ]
  },
  {
   "cell_type": "code",
   "execution_count": null,
   "metadata": {},
   "outputs": [],
   "source": [
    "cout << A[BinarySearch(A, 0, 6, 100)] << endl;"
   ]
  },
  {
   "cell_type": "code",
   "execution_count": null,
   "metadata": {},
   "outputs": [],
   "source": []
  }
 ],
 "metadata": {
  "kernelspec": {
   "display_name": "ROOT C++",
   "language": "c++",
   "name": "root"
  },
  "language_info": {
   "codemirror_mode": "text/x-c++src",
   "file_extension": ".C",
   "mimetype": " text/x-c++src",
   "name": "c++"
  },
  "latex_envs": {
   "LaTeX_envs_menu_present": true,
   "autoclose": false,
   "autocomplete": true,
   "bibliofile": "biblio.bib",
   "cite_by": "apalike",
   "current_citInitial": 1,
   "eqLabelWithNumbers": true,
   "eqNumInitial": 1,
   "hotkeys": {
    "equation": "Ctrl-E",
    "itemize": "Ctrl-I"
   },
   "labels_anchors": false,
   "latex_user_defs": false,
   "report_style_numbering": false,
   "user_envs_cfg": false
  }
 },
 "nbformat": 4,
 "nbformat_minor": 4
}

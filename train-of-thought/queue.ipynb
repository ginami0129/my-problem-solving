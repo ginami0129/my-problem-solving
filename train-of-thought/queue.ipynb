{
 "cells": [
  {
   "cell_type": "markdown",
   "metadata": {},
   "source": [
    "## 리스트로 구현된 큐"
   ]
  },
  {
   "cell_type": "markdown",
   "metadata": {},
   "source": [
    "큐를 일반화 시키면 리스트이다.   \n",
    "리스트는 삽입삭제가 모든 인덱스에 대하여 일어나지만, 큐는 삽입은 맨 뒤 삭제는 맨 앞에서만 일어나는 자료구조이다.\n",
    "***"
   ]
  },
  {
   "cell_type": "markdown",
   "metadata": {},
   "source": [
    "### 큐의 초기화"
   ]
  },
  {
   "cell_type": "markdown",
   "metadata": {},
   "source": [
    "리스트로 구현되기때문에 리스트를 생성해준다."
   ]
  },
  {
   "cell_type": "code",
   "execution_count": 2,
   "metadata": {},
   "outputs": [
    {
     "name": "stdout",
     "output_type": "stream",
     "text": [
      "0\n"
     ]
    }
   ],
   "source": [
    "list<int> L;\n",
    "cout << L.size() << endl;"
   ]
  },
  {
   "cell_type": "markdown",
   "metadata": {},
   "source": [
    "### 큐의 Push 연산 구현\n",
    "    1. 넣고싶은 아이템을 입력한다.\n",
    "    2. 리스트의 맨 뒤에 아이템을 삽입한다."
   ]
  },
  {
   "cell_type": "code",
   "execution_count": 3,
   "metadata": {},
   "outputs": [],
   "source": [
    "int item = 1;               //  넣고싶은 아이템을 입력한다.\n",
    "L.insert(L.begin(), item);  //  리스트의 맨 뒤에 아이템을 삽입한다."
   ]
  },
  {
   "cell_type": "code",
   "execution_count": 4,
   "metadata": {},
   "outputs": [
    {
     "name": "stdout",
     "output_type": "stream",
     "text": [
      "1\n"
     ]
    }
   ],
   "source": [
    "cout << L.front() << endl;"
   ]
  },
  {
   "cell_type": "markdown",
   "metadata": {},
   "source": [
    "### 큐의 Pop연산 구현\n",
    "    1. 리스트의 가장 앞의 원소를 삭제한다."
   ]
  },
  {
   "cell_type": "code",
   "execution_count": 5,
   "metadata": {},
   "outputs": [
    {
     "name": "stdout",
     "output_type": "stream",
     "text": [
      "0\n"
     ]
    }
   ],
   "source": [
    "L.erase(L.begin());\n",
    "cout << L.size() << endl;"
   ]
  },
  {
   "cell_type": "markdown",
   "metadata": {},
   "source": [
    "***"
   ]
  },
  {
   "cell_type": "markdown",
   "metadata": {},
   "source": [
    "### 리스트로 구현한 스택 코드\n",
    "```\n",
    "#include <iostream>\n",
    "#include <string>\n",
    "#include <list>\n",
    "using namespace std;\n",
    "\n",
    "class Queue {\n",
    " public:\n",
    "  Queue();\n",
    "  Queue(const Queue &Q);\n",
    "  ~Queue();\n",
    "  void Push(int item);\n",
    "  int Pop();\n",
    "  int Size();\n",
    "  bool IsEmpty();\n",
    "  int Front();\n",
    "  int Back();\n",
    " private:\n",
    "  list<int> L;\n",
    "};\n",
    "// 큐 초기화 함수\n",
    "// 리스트가 멤버변수기 때문에 생성할 필요가 없다.\n",
    "Queue::Queue() {}\n",
    "// 큐 깊은 복사생성자 함수\n",
    "// 리스트의 깊은 복사생성자가 구현\n",
    "Queue::Queue(const Queue &Q) {\n",
    "  L = Q.L;\n",
    "}\n",
    "// 큐 소멸자 함수\n",
    "// 리스트의 소멸자함수 호출\n",
    "Queue::~Queue() {}\n",
    "// 큐 Push 연산 함수\n",
    "// 1. 넣고싶은 아이템을 입력한다.\n",
    "// 2. 리스트의 맨 뒤에 아이템을 삽입한다\n",
    "void Queue::Push(int item) {\n",
    "  L.insert(L.end(), item);\n",
    "}\n",
    "// 큐 Pop 연산 함수\n",
    "// 1. 리스트의 가장 앞의 원소를 삭제한다.\n",
    "int Queue::Pop() {\n",
    "  if (IsEmpty()) return -1;\n",
    "  int result = L.front();\n",
    "  L.erase(L.begin());\n",
    "  return result;\n",
    "}\n",
    "// 큐의 길이 알수있는 함수\n",
    "int Queue::Size() {\n",
    "  return L.size();\n",
    "}\n",
    "// 큐가 비어있는지 확인하는 함수\n",
    "bool Queue::IsEmpty() {\n",
    "  return Size() == 0;\n",
    "}\n",
    "// 큐의 가장 앞에 있는 정수 확인\n",
    "int Queue::Front() {\n",
    "  return IsEmpty() ? -1 : L.front();\n",
    "}\n",
    "// 큐의 가장 뒤에 있는 정수 확인\n",
    "int Queue::Back() {\n",
    "  return IsEmpty() ? -1 : L.back();\n",
    "}\n",
    "```"
   ]
  },
  {
   "cell_type": "markdown",
   "metadata": {},
   "source": [
    "### [큐를 이용한 문제](https://www.acmicpc.net/problem/10845)를 풀어보았다.\n",
    "    스택과 같은 문제이기 떄문에 스택파일을 참고할것"
   ]
  },
  {
   "cell_type": "code",
   "execution_count": null,
   "metadata": {},
   "outputs": [],
   "source": [
    "int main(void) {\n",
    "  Queue q;\n",
    "  string command;\n",
    "  int N;\n",
    "  ios_base::sync_with_stdio(false);\n",
    "  cin.tie(NULL);\n",
    "  cin >> N;\n",
    "  // 공백 처리\n",
    "  cin.get();\n",
    "  while (N) {\n",
    "    // 명령어 입력받기\n",
    "    getline(cin, command);\n",
    "    // 명령어에 따라 큐명령어 실행\n",
    "    if (command.find(\"push\") == 0) {\n",
    "      // 명령어에서 숫자 추출\n",
    "      q.Push(stoi(command.substr(5)));\n",
    "    } else if (command.find(\"pop\") == 0) {\n",
    "      cout << q.Pop() << '\\n';\n",
    "    } else if (command.find(\"size\") == 0) {\n",
    "      cout << q.Size() << '\\n';\n",
    "    } else if (command.find(\"empty\") == 0) {\n",
    "      cout << q.IsEmpty() << '\\n';\n",
    "    } else if (command.find(\"front\") == 0) {\n",
    "      cout << q.Front() << '\\n';\n",
    "    } else if (command.find(\"back\") == 0) {\n",
    "      cout << q.Back() << '\\n';\n",
    "    }\n",
    "    --N;\n",
    "  }\n",
    "}"
   ]
  }
 ],
 "metadata": {
  "kernelspec": {
   "display_name": "ROOT C++",
   "language": "c++",
   "name": "root"
  },
  "language_info": {
   "codemirror_mode": "text/x-c++src",
   "file_extension": ".C",
   "mimetype": " text/x-c++src",
   "name": "c++"
  }
 },
 "nbformat": 4,
 "nbformat_minor": 4
}

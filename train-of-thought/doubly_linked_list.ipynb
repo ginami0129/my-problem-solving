{
 "cells": [
  {
   "cell_type": "code",
   "execution_count": 1,
   "metadata": {},
   "outputs": [],
   "source": [
    "typedef struct NodeRecord {\n",
    "    int data;\n",
    "    struct NodeRecord *prev, *next;\n",
    "} Node;"
   ]
  },
  {
   "cell_type": "markdown",
   "metadata": {},
   "source": [
    "링크드 리스트 초기화  \n",
    "구현의 편의성을 위해 노드틀 생성한다.\n"
   ]
  },
  {
   "cell_type": "code",
   "execution_count": 16,
   "metadata": {},
   "outputs": [],
   "source": [
    "Node *head = new Node;\n",
    "Node *tail = new Node;\n",
    "int counts = 0;"
   ]
  },
  {
   "cell_type": "markdown",
   "metadata": {},
   "source": [
    "링크드 리스트 삽입 알고리즘"
   ]
  },
  {
   "cell_type": "code",
   "execution_count": 19,
   "metadata": {},
   "outputs": [
    {
     "name": "stdout",
     "output_type": "stream",
     "text": [
      "2\n"
     ]
    }
   ],
   "source": [
    "int position = 0;\n",
    "int item = position;\n",
    "Node *node = new Node;\n",
    "node->data = item;\n",
    "\n",
    "Node *temp = head;\n",
    "for(int i = 0; i < position; ++i) {\n",
    "    temp = temp->next;\n",
    "}\n",
    "temp->next = node;\n",
    "counts++;\n",
    "cout << counts << endl;"
   ]
  },
  {
   "cell_type": "code",
   "execution_count": 20,
   "metadata": {},
   "outputs": [
    {
     "name": "stdout",
     "output_type": "stream",
     "text": [
      "0\n"
     ]
    },
    {
     "name": "stderr",
     "output_type": "stream",
     "text": [
      " Generating stack trace...\n",
      " 0x00007fc980860496 in cling::Interpreter::RunFunction(clang::FunctionDecl const*, cling::Value*) + 0x96 from /usr/lib/root/lib/libCling.so\n",
      " 0x00007fc980861b19 in cling::Interpreter::EvaluateInternal(std::__cxx11::basic_string<char, std::char_traits<char>, std::allocator<char> > const&, cling::CompilationOptions, cling::Value*, cling::Transaction**, unsigned long) + 0x209 from /usr/lib/root/lib/libCling.so\n",
      " 0x00007fc980861d9a in cling::Interpreter::process(std::__cxx11::basic_string<char, std::char_traits<char>, std::allocator<char> > const&, cling::Value*, cling::Transaction**, bool) + 0x10a from /usr/lib/root/lib/libCling.so\n",
      " 0x00007fc980921b6d in cling::MetaProcessor::process(llvm::StringRef, cling::Interpreter::CompilationResult&, cling::Value*, bool) + 0x1ed from /usr/lib/root/lib/libCling.so\n",
      " 0x00007fc9807d0d4e in <unknown> from /usr/lib/root/lib/libCling.so\n",
      " 0x00007fc9807e2a8d in <unknown> from /usr/lib/root/lib/libCling.so\n",
      " 0x00007fc971c2caa9 in JupyROOTExecutorImpl(char const*) + 0x39 from /usr/lib/root/lib/libJupyROOT.so\n",
      " 0x00007fc971c2cb59 in JupyROOTExecutor + 0x9 from /usr/lib/root/lib/libJupyROOT.so\n",
      " 0x00007fc987ec0dae in ffi_call_unix64 + 0x4c from /usr/lib/x86_64-linux-gnu/libffi.so.6\n",
      " 0x00007fc987ec071f in ffi_call + 0x22f from /usr/lib/x86_64-linux-gnu/libffi.so.6\n",
      " 0x00007fc9880d3cc4 in _ctypes_callproc + 0x2a4 from /usr/lib/python2.7/lib-dynload/_ctypes.x86_64-linux-gnu.so\n",
      " 0x00007fc9880d36c5 in <unknown> from /usr/lib/python2.7/lib-dynload/_ctypes.x86_64-linux-gnu.so\n",
      " 0x000055c61bf8eb20 in PyEval_EvalFrameEx + 0x54b0 from python2.7\n",
      " 0x000055c61bf8e926 in PyEval_EvalFrameEx + 0x52b6 from python2.7\n",
      " 0x000055c61bf8e926 in PyEval_EvalFrameEx + 0x52b6 from python2.7\n",
      " 0x000055c61bf8e926 in PyEval_EvalFrameEx + 0x52b6 from python2.7\n",
      " 0x000055c61bf872aa in PyEval_EvalCodeEx + 0x58a from python2.7\n",
      " 0x000055c61bfa2f29 in <unknown> from python2.7\n",
      " 0x000055c61bfbb70e in <unknown> from python2.7\n",
      " 0x000055c61bf72e6e in PyObject_Call + 0x3e from python2.7\n",
      " 0x000055c61bf93140 in PyEval_CallObjectWithKeywords + 0x30 from python2.7\n",
      " 0x000055c61c027e42 in <unknown> from python2.7\n",
      " 0x000055c61c027df7 in <unknown> from python2.7\n",
      " 0x00007fc98a38f6db in <unknown> from /lib/x86_64-linux-gnu/libpthread.so.0\n",
      " 0x00007fc98a6c888f in clone + 0x3f from /lib/x86_64-linux-gnu/libc.so.6\n",
      "Error in <HandleInterpreterException>: Trying to access a pointer that points to an invalid memory address..\n",
      "Execution of your code was aborted.\n",
      "input_line_146:5:13: warning: invalid memory pointer passed to a callee:\n",
      "    cout << temp->data << endl;\n",
      "            ^~~~\n"
     ]
    }
   ],
   "source": [
    "Node *temp = head;\n",
    "for (int i = 0; i < counts; ++i) {\n",
    "    temp = temp->next;\n",
    "    cout << temp->data << endl;\n",
    "}"
   ]
  },
  {
   "cell_type": "code",
   "execution_count": null,
   "metadata": {},
   "outputs": [],
   "source": []
  }
 ],
 "metadata": {
  "kernelspec": {
   "display_name": "ROOT C++",
   "language": "c++",
   "name": "root"
  },
  "language_info": {
   "codemirror_mode": "text/x-c++src",
   "file_extension": ".C",
   "mimetype": " text/x-c++src",
   "name": "c++"
  },
  "latex_envs": {
   "LaTeX_envs_menu_present": true,
   "autoclose": false,
   "autocomplete": true,
   "bibliofile": "biblio.bib",
   "cite_by": "apalike",
   "current_citInitial": 1,
   "eqLabelWithNumbers": true,
   "eqNumInitial": 1,
   "hotkeys": {
    "equation": "Ctrl-E",
    "itemize": "Ctrl-I"
   },
   "labels_anchors": false,
   "latex_user_defs": false,
   "report_style_numbering": false,
   "user_envs_cfg": false
  }
 },
 "nbformat": 4,
 "nbformat_minor": 4
}

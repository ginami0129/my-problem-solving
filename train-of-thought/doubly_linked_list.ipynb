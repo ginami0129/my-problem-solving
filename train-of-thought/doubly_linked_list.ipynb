{
 "cells": [
  {
   "cell_type": "markdown",
   "metadata": {},
   "source": [
    "## 이중연결리스트 구현 (dummy node 사용)\n",
    "### 노드구조\n",
    "1. 이전 노드를 가르킨다.\n",
    "2. 다음 노드를 가르킨다."
   ]
  },
  {
   "cell_type": "code",
   "execution_count": 1,
   "metadata": {},
   "outputs": [],
   "source": [
    "typedef struct NodeRecord {\n",
    "    int data;\n",
    "    struct NodeRecord *prev, *next;\n",
    "} Node;"
   ]
  },
  {
   "cell_type": "markdown",
   "metadata": {},
   "source": [
    "### 링크드 리스트 초기화 \n",
    "다음과 같은 구조를 가진다.  \n",
    "head -> dummynode - dummynode <- tail  \n",
    "두 더미노드 사이에 실제 값이 들어있는  노드가 들거간다."
   ]
  },
  {
   "cell_type": "code",
   "execution_count": 2,
   "metadata": {},
   "outputs": [],
   "source": [
    "int counts = 0;          // 데이터 개수 저장 변수\n",
    "Node *head = new Node; // head -> dummynode\n",
    "Node *tail = new Node; // tail -> dummynode\n",
    "// dummynode - dummynode\n",
    "head->next = tail;\n",
    "tail->prev = head;"
   ]
  },
  {
   "cell_type": "markdown",
   "metadata": {},
   "source": [
    "### 링크드 리스트 삽입 알고리즘\n",
    "1. 삽입할 위치와 값을 입력받는다.(유효한 위치와 값이 들어왔다고 가정)\n",
    "2. 노드들 만들어 값을 저장한다.\n",
    "3. 들어갈 위치를 찾아서 링크한다."
   ]
  },
  {
   "cell_type": "code",
   "execution_count": 3,
   "metadata": {},
   "outputs": [
    {
     "name": "stdout",
     "output_type": "stream",
     "text": [
      "0\n"
     ]
    }
   ],
   "source": [
    "cout << counts << endl;"
   ]
  },
  {
   "cell_type": "code",
   "execution_count": 18,
   "metadata": {},
   "outputs": [
    {
     "name": "stdout",
     "output_type": "stream",
     "text": [
      "10\n"
     ]
    }
   ],
   "source": [
    "// 삽입할 위치와 값을 입력받는다.\n",
    "int position = counts;\n",
    "int item = counts;\n",
    "// 노드를 만들어 값을 저장한다.\n",
    "Node *node = new Node;\n",
    "node->data = item;\n",
    "// 들어갈 위치를 찾는다.\n",
    "Node *temp = head->next;\n",
    "for(int i = 0; i < position; ++i) {\n",
    "    temp = temp->next;\n",
    "}\n",
    "node->next = temp;\n",
    "node->prev = temp->prev;\n",
    "\n",
    "temp->prev->next = node;\n",
    "temp->prev = node;\n",
    "counts++;\n",
    "cout << counts << endl;"
   ]
  },
  {
   "cell_type": "markdown",
   "metadata": {},
   "source": [
    "예전에 구현할때 삽입하고자하는위치의 이전노드를 구했다 왜냐하면 insert기능도 같이 구현하고자 했기 떄문이다.  \n",
    "하지만, 더미노드는 삽입하고자 하는 위치의노드를 구해도 insert기능도구현이 가능하다.   \n",
    "그렇게 굳이 바꾸는이유는 검색, 삭제 , 삽입과정에서 노드의 위치를구하는것을 통일시켜 함수화하기위해서그렇다.  "
   ]
  },
  {
   "cell_type": "markdown",
   "metadata": {},
   "source": [
    "### 노드안의 모든요소 출력"
   ]
  },
  {
   "cell_type": "code",
   "execution_count": 16,
   "metadata": {},
   "outputs": [
    {
     "name": "stdout",
     "output_type": "stream",
     "text": [
      "6\n",
      "7\n",
      "5\n",
      "4\n",
      "3\n",
      "2\n",
      "1\n",
      "0\n"
     ]
    }
   ],
   "source": [
    "Node *temp = tail;\n",
    "for (int i = 0; i < counts; ++i) {\n",
    "    temp = temp->prev;\n",
    "    cout << temp->data << endl;\n",
    "}"
   ]
  },
  {
   "cell_type": "markdown",
   "metadata": {},
   "source": [
    "### 링크드 리스트 삭제 알고리즘\n",
    "1. 삭제할 노드의 위치를 받는다.\n",
    "2. 삭제할 노드를 찾는다.\n",
    "3. 노드를 삭제한다."
   ]
  },
  {
   "cell_type": "code",
   "execution_count": 24,
   "metadata": {},
   "outputs": [],
   "source": [
    "// 삭제할 노드의 위치를 받는다.\n",
    "int position = 1;\n",
    "// 삭제할 노드를 찾는다.\n",
    "Node *temp = head->next;\n",
    "for(int i = 0; i < position; ++i) {\n",
    "    temp = temp-> next;\n",
    "}\n",
    "//노드를 삭제한다.\n",
    "temp->prev->next = temp->next;\n",
    "temp->next->prev = temp->prev;\n",
    "delete(temp);\n",
    "--counts;"
   ]
  },
  {
   "cell_type": "code",
   "execution_count": 17,
   "metadata": {},
   "outputs": [
    {
     "name": "stdout",
     "output_type": "stream",
     "text": [
      "0\n",
      "1\n",
      "2\n",
      "3\n",
      "4\n",
      "5\n"
     ]
    }
   ],
   "source": [
    "Node *temp = head;\n",
    "for (int i = 0; i < counts; ++i) {\n",
    "    temp = temp->next;\n",
    "    cout << temp->data << endl;\n",
    "}"
   ]
  },
  {
   "cell_type": "markdown",
   "metadata": {},
   "source": [
    "### 링크드 리스트 검색 알고리즘\n",
    "1. 검색하고자 하는 인덱스를 받는다.  \n",
    "2. 인덱스가 앞쪽이라면 앞부터 뒤쪽이라면 뒤부터 검색한다.O(n/2)"
   ]
  },
  {
   "cell_type": "code",
   "execution_count": 32,
   "metadata": {},
   "outputs": [
    {
     "name": "stdout",
     "output_type": "stream",
     "text": [
      "5\n"
     ]
    }
   ],
   "source": [
    "int position = 5;\n",
    "Node *temp = nullptr;\n",
    "if (position < counts/2) {\n",
    "    temp = head->next;\n",
    "    for(int i = 0; i < position; ++i) {\n",
    "        temp = temp->next;\n",
    "    }\n",
    "} else {\n",
    "    temp = tail->prev;\n",
    "    for (int i = counts - 1; i > position; --i) {\n",
    "        temp = temp->prev;\n",
    "    }\n",
    "}\n",
    "cout << temp->data << endl;"
   ]
  },
  {
   "cell_type": "markdown",
   "metadata": {},
   "source": [
    "설명의 편의를 위해 삽입, 삭제, 검색 알고리즘에서 공통적으로 들어가는 node위치 찾는 것을 함수화 하지 않았다.   \n",
    "링크드 리스트를 구현할때는 해당 중복 기능을 함수화 해아한다."
   ]
  }
 ],
 "metadata": {
  "kernelspec": {
   "display_name": "ROOT C++",
   "language": "c++",
   "name": "root"
  },
  "language_info": {
   "codemirror_mode": "text/x-c++src",
   "file_extension": ".C",
   "mimetype": " text/x-c++src",
   "name": "c++"
  },
  "latex_envs": {
   "LaTeX_envs_menu_present": true,
   "autoclose": false,
   "autocomplete": true,
   "bibliofile": "biblio.bib",
   "cite_by": "apalike",
   "current_citInitial": 1,
   "eqLabelWithNumbers": true,
   "eqNumInitial": 1,
   "hotkeys": {
    "equation": "Ctrl-E",
    "itemize": "Ctrl-I"
   },
   "labels_anchors": false,
   "latex_user_defs": false,
   "report_style_numbering": false,
   "user_envs_cfg": false
  }
 },
 "nbformat": 4,
 "nbformat_minor": 4
}

{
 "cells": [
  {
   "cell_type": "markdown",
   "metadata": {},
   "source": [
    "## 이중연결리스트 구현 (dummy node 사용)\n",
    "### 노드구조\n",
    "1. 이전 노드를 가르킨다.\n",
    "2. 다음 노드를 가르킨다."
   ]
  },
  {
   "cell_type": "code",
   "execution_count": 4,
   "metadata": {},
   "outputs": [],
   "source": [
    "typedef struct NodeRecord {\n",
    "    int data;\n",
    "    struct NodeRecord *prev, *next;\n",
    "} Node;"
   ]
  },
  {
   "cell_type": "markdown",
   "metadata": {},
   "source": [
    "### 링크드 리스트 초기화 \n",
    "다음과 같은 구조를 가진다.  \n",
    "head -> dummynode - dummynode <- tail  \n",
    "두 더미노드 사이에 실제 값이 들어있는  노드가 들거간다."
   ]
  },
  {
   "cell_type": "code",
   "execution_count": 5,
   "metadata": {},
   "outputs": [],
   "source": [
    "int counts = 0;          // 데이터 개수 저장 변수\n",
    "Node *head = new Node; // head -> dummynode\n",
    "Node *tail = new Node; // tail -> dummynode\n",
    "// dummynode - dummynode\n",
    "head->next = tail;\n",
    "tail->prev = head;"
   ]
  },
  {
   "cell_type": "markdown",
   "metadata": {},
   "source": [
    "### 링크드 리스트 삽입 알고리즘\n",
    "1. 삽입할 위치와 값을 입력받는다.(유효한 위치와 값이 들어왔다고 가정)\n",
    "2. 노드들 만들어 값을 저장한다.\n",
    "3. 들어갈 위치를 찾아서 링크한다."
   ]
  },
  {
   "cell_type": "code",
   "execution_count": 6,
   "metadata": {},
   "outputs": [
    {
     "name": "stdout",
     "output_type": "stream",
     "text": [
      "0\n"
     ]
    }
   ],
   "source": [
    "cout << counts << endl;"
   ]
  },
  {
   "cell_type": "code",
   "execution_count": 13,
   "metadata": {},
   "outputs": [
    {
     "name": "stdout",
     "output_type": "stream",
     "text": [
      "5\n"
     ]
    }
   ],
   "source": [
    "// 삽입할 위치와 값을 입력받는다.\n",
    "int position = counts;\n",
    "int item = counts;\n",
    "// 노드를 만들어 값을 저장한다.\n",
    "Node *node = new Node;\n",
    "node->data = item;\n",
    "// 들어갈 위치를 찾는다.\n",
    "Node *temp = head->next;\n",
    "for(int i = 0; i < position; ++i) {\n",
    "    temp = temp->next;\n",
    "}\n",
    "node->next = temp;\n",
    "node->prev = temp->prev;\n",
    "\n",
    "temp->prev->next = node;\n",
    "temp->prev = node;\n",
    "counts++;\n",
    "cout << counts << endl;"
   ]
  },
  {
   "cell_type": "markdown",
   "metadata": {},
   "source": [
    "예전에 구현할때 삽입하고자하는위치의 이전노드를 구했다 왜냐하면 insert기능도 같이 구현하고자 했기 떄문이다.  \n",
    "하지만, 더미노드는 삽입하고자 하는 위치의노드를 구해도 insert기능도구현이 가능하다.   \n",
    "그렇게 굳이 바꾸는이유는 검색, 삭제 , 삽입과정에서 노드의 위치를구하는것을 통일시켜 함수화하기위해서그렇다.  "
   ]
  },
  {
   "cell_type": "markdown",
   "metadata": {},
   "source": [
    "### 노드안의 모든요소 출력"
   ]
  },
  {
   "cell_type": "code",
   "execution_count": 14,
   "metadata": {},
   "outputs": [
    {
     "name": "stdout",
     "output_type": "stream",
     "text": [
      "4\n",
      "3\n",
      "2\n",
      "1\n",
      "0\n"
     ]
    }
   ],
   "source": [
    "Node *temp = tail;\n",
    "for (int i = 0; i < counts; ++i) {\n",
    "    temp = temp->prev;\n",
    "    cout << temp->data << endl;\n",
    "}"
   ]
  },
  {
   "cell_type": "markdown",
   "metadata": {},
   "source": [
    "### 링크드 리스트 삭제 알고리즘\n",
    "1. 삭제할 노드의 위치를 받는다.\n",
    "2. 삭제할 노드를 찾는다.\n",
    "3. 노드를 삭제한다."
   ]
  },
  {
   "cell_type": "code",
   "execution_count": 24,
   "metadata": {},
   "outputs": [],
   "source": [
    "// 삭제할 노드의 위치를 받는다.\n",
    "int position = 1;\n",
    "// 삭제할 노드를 찾는다.\n",
    "Node *temp = head->next;\n",
    "for(int i = 0; i < position; ++i) {\n",
    "    temp = temp-> next;\n",
    "}\n",
    "//노드를 삭제한다.\n",
    "temp->prev->next = temp->next;\n",
    "temp->next->prev = temp->prev;\n",
    "delete(temp);\n",
    "--counts;"
   ]
  },
  {
   "cell_type": "code",
   "execution_count": 15,
   "metadata": {},
   "outputs": [
    {
     "name": "stdout",
     "output_type": "stream",
     "text": [
      "0\n",
      "1\n",
      "2\n",
      "3\n",
      "4\n"
     ]
    }
   ],
   "source": [
    "Node *temp = head;\n",
    "for (int i = 0; i < counts; ++i) {\n",
    "    temp = temp->next;\n",
    "    cout << temp->data << endl;\n",
    "}"
   ]
  },
  {
   "cell_type": "markdown",
   "metadata": {},
   "source": [
    "### 링크드 리스트 검색 알고리즘\n",
    "1. 검색하고자 하는 인덱스를 받는다.  \n",
    "2. 인덱스가 앞쪽이라면 앞부터 뒤쪽이라면 뒤부터 검색한다.O(n/2)"
   ]
  },
  {
   "cell_type": "code",
   "execution_count": 16,
   "metadata": {},
   "outputs": [
    {
     "name": "stdout",
     "output_type": "stream",
     "text": [
      "4\n"
     ]
    }
   ],
   "source": [
    "int position = 5;\n",
    "Node *temp = nullptr;\n",
    "if (position < counts/2) {\n",
    "    temp = head->next;\n",
    "    for(int i = 0; i < position; ++i) {\n",
    "        temp = temp->next;\n",
    "    }\n",
    "} else {\n",
    "    temp = tail->prev;\n",
    "    for (int i = counts - 1; i > position; --i) {\n",
    "        temp = temp->prev;\n",
    "    }\n",
    "}\n",
    "cout << temp->data << endl;"
   ]
  },
  {
   "cell_type": "markdown",
   "metadata": {},
   "source": [
    "설명의 편의를 위해 삽입, 삭제, 검색 알고리즘에서 공통적으로 들어가는 node위치 찾는 것을 함수화 하지 않았다.   \n",
    "링크드 리스트를 구현할때는 해당 중복 기능을 함수화 해아한다."
   ]
  },
  {
   "cell_type": "markdown",
   "metadata": {},
   "source": [
    "### 링크드 리스트 구현\n",
    "    GetNode 함수를추가할때 위에서 구현한 검색알고리즘에서 뒤에서 부터 탐색시 더미노드를 포함하는것으로 바꾸었다.\n",
    "    append를 같이 구현하려면 뒤쪽 더미노드가 선택되어야 하기 때문이다.\n",
    "    앞쪽 더미노드는 사용될일이 없으므로 그대로 구현하였다."
   ]
  },
  {
   "cell_type": "code",
   "execution_count": 17,
   "metadata": {},
   "outputs": [
    {
     "name": "stderr",
     "output_type": "stream",
     "text": [
      "input_line_143:29:7: error: qualified reference to 'List' is a constructor name rather than a type in this context\n",
      "List::List() {\n",
      "      ^\n",
      "input_line_143:29:13: error: expected ';' after expression\n",
      "List::List() {\n",
      "            ^\n",
      "            ;\n",
      "input_line_143:30:3: error: reference to overloaded function could not be resolved; did you mean to call it?\n",
      "  count = 0;\n",
      "  ^~~~~\n",
      "/usr/include/c++/7/bits/stl_algo.h:4076:5: note: possible target for call\n",
      "    count(_InputIterator __first, _InputIterator __last, const _Tp& __value)\n",
      "    ^\n",
      "input_line_143:31:10: error: assigning to '__cling_N55::Node *' (aka 'NodeRecord *') from incompatible type 'Node *' (aka 'NodeRecord *')\n",
      "  head = new Node;\n",
      "         ^~~~~~~~\n",
      "input_line_143:32:10: error: assigning to '__cling_N55::Node *' (aka 'NodeRecord *') from incompatible type 'Node *' (aka 'NodeRecord *')\n",
      "  tail = new Node;\n",
      "         ^~~~~~~~\n",
      "input_line_143:38:7: error: call to non-static member function without an object argument\n",
      "List::~List() {\n",
      "~~~~~~^\n"
     ]
    }
   ],
   "source": [
    "typedef struct NodeRecord {\n",
    "  int data;\n",
    "  struct NodeRecord *prev, *next;\n",
    "} Node;\n",
    "\n",
    "class List {\n",
    " public:\n",
    "  List();\n",
    "  List(const List &L);\n",
    "  ~List();\n",
    "\n",
    "  void Insert(int position, int item);\n",
    "  void Remove(int position);\n",
    "  int Retrieve(int position) const;\n",
    "  bool IsEmpty() const{return Size() == 0 ? true : false;};\n",
    "  int Size() const{return count;};\n",
    "\n",
    " private:\n",
    "  Node* GetNode(int posiiton) const;\n",
    "  int count;\n",
    "  Node *head;\n",
    "  Node *tail;\n",
    "};\n",
    "\n",
    "// 리스트를 초기화하는 함수\n",
    "//  리스트의 항목수 는 0개이다.\n",
    "//  Head-> dummynode - dummynode <- tail\n",
    "List::List() {\n",
    "  count = 0;\n",
    "  head = new Node;\n",
    "  tail = new Node;\n",
    "  head->next = tail;\n",
    "  tail->prev = head;\n",
    "}\n",
    "// 리스트가 소멸할때 작동하는 함수\n",
    "// 모든 노드들을 제거한다.\n",
    "List::~List() {\n",
    "  while(Size() > 0) {\n",
    "    Remove(0);\n",
    "  }\n",
    "}\n",
    "// 리스트를 깊은복사하는 함수\n",
    "// 복사하고자하는 리스트의 항목을 가져와 해당 인덱스에 넣는다.\n",
    "List::List(const List &L) {\n",
    "  int item;\n",
    "  for(int i = 0; i < L.Size(); ++i) {\n",
    "    item = L.Retrieve(i);\n",
    "    Insert(i, item);\n",
    "  }\n",
    "}\n",
    "// 해당위치의 노드를 반환하는함수\n",
    "// 검색하고자 하는 인덱스를 받는다.\n",
    "// 인덱스가 앞쪽이라면 앞부터 뒤쪽이라면 뒤부터 검색한다.O(n/2)\n",
    "Node* List::GetNode(int position) const{\n",
    "  Node *temp = nullptr;\n",
    "  if (position < Size() / 2) {\n",
    "      temp = head->next;\n",
    "      for(int i = 0; i < position; ++i) {\n",
    "          temp = temp->next;\n",
    "      }\n",
    "  } else {\n",
    "      temp = tail;\n",
    "      for (int i = Size(); i > position; --i) {\n",
    "          temp = temp->prev;\n",
    "      }\n",
    "  }\n",
    "  return temp;\n",
    "} \n",
    "// 리스트에 항목을 추가하는 함수\n",
    "// 삽입할 위치와 값을 입력받는다.(유효한 위치와 값이 들어왔다고 가정)\n",
    "// 노드들 만들어 값을 저장한다.\n",
    "// 들어갈 위치를 찾아서 링크한다.\n",
    "void List::Insert(int position, int item) {\n",
    "  // 노드를 만들어 값을 저장한다.\n",
    "  Node *node = new Node;\n",
    "  node->data = item;\n",
    "  // 들어갈 위치를 찾아서 링크한다.\n",
    "  Node *temp = GetNode(position);\n",
    "  // if (position == Size()) temp = temp->next;\n",
    "  node->next = temp;\n",
    "  node->prev = temp->prev;\n",
    "  temp->prev->next = node;\n",
    "  temp->prev = node;\n",
    "  // 리스트 크기 증가\n",
    "  ++count;\n",
    "}\n",
    "// 리스트의 항목을 삭제하는 함수\n",
    "// 삭제할 노드의 위치를 받는다.\n",
    "// 삭제할 노드를 찾는다.\n",
    "// 노드를 삭제한다.\n",
    "void List::Remove(int position) {\n",
    "  // 삭제할 노드를 찾는다.\n",
    "  Node* temp = GetNode(position);\n",
    "  //노드를 삭제한다.\n",
    "  temp->prev->next = temp->next;\n",
    "  temp->next->prev = temp->prev;\n",
    "  delete(temp);\n",
    "  // 리스트 크기 감소\n",
    "  --count;\n",
    "}\n",
    "// 리스트의 항목을 검색하는 함수\n",
    "// 항목에 해당하는 노드를 찾는다.\n",
    "int List::Retrieve(int position) const{\n",
    "  return GetNode(position)->data;\n",
    "}"
   ]
  },
  {
   "cell_type": "code",
   "execution_count": null,
   "metadata": {},
   "outputs": [],
   "source": []
  }
 ],
 "metadata": {
  "kernelspec": {
   "display_name": "ROOT C++",
   "language": "c++",
   "name": "root"
  },
  "language_info": {
   "codemirror_mode": "text/x-c++src",
   "file_extension": ".C",
   "mimetype": " text/x-c++src",
   "name": "c++"
  },
  "latex_envs": {
   "LaTeX_envs_menu_present": true,
   "autoclose": false,
   "autocomplete": true,
   "bibliofile": "biblio.bib",
   "cite_by": "apalike",
   "current_citInitial": 1,
   "eqLabelWithNumbers": true,
   "eqNumInitial": 1,
   "hotkeys": {
    "equation": "Ctrl-E",
    "itemize": "Ctrl-I"
   },
   "labels_anchors": false,
   "latex_user_defs": false,
   "report_style_numbering": false,
   "user_envs_cfg": false
  }
 },
 "nbformat": 4,
 "nbformat_minor": 4
}

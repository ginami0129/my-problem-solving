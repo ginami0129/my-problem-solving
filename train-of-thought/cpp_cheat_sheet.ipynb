{
 "cells": [
  {
   "cell_type": "code",
   "execution_count": 128,
   "metadata": {
    "ExecuteTime": {
     "end_time": "2020-05-10T14:45:19.939024Z",
     "start_time": "2020-05-10T14:45:19.830618Z"
    }
   },
   "outputs": [],
   "source": [
    "#include <iostream>\n",
    "#include <fstream>\n",
    "#include <string>\n",
    "\n",
    "using namespace std;"
   ]
  },
  {
   "cell_type": "code",
   "execution_count": 129,
   "metadata": {
    "ExecuteTime": {
     "end_time": "2020-05-10T14:45:20.339614Z",
     "start_time": "2020-05-10T14:45:20.230559Z"
    }
   },
   "outputs": [
    {
     "name": "stdout",
     "output_type": "stream",
     "text": [
      "1\n"
     ]
    }
   ],
   "source": [
    "ifstream ifs(\"input.txt\");\n",
    "cout << ifs.is_open() << endl;"
   ]
  },
  {
   "cell_type": "code",
   "execution_count": 130,
   "metadata": {
    "ExecuteTime": {
     "end_time": "2020-05-10T14:45:20.900906Z",
     "start_time": "2020-05-10T14:45:20.791489Z"
    }
   },
   "outputs": [
    {
     "name": "stdout",
     "output_type": "stream",
     "text": [
      "10 11 12 16 18 23 29\n"
     ]
    }
   ],
   "source": [
    "string line;\n",
    "getline(ifs, line);\n",
    "cout << line << endl;\n",
    "// while(getline(ifs, line)){\n",
    "//     cout << line << endl;\n",
    "// }"
   ]
  },
  {
   "cell_type": "code",
   "execution_count": 131,
   "metadata": {
    "ExecuteTime": {
     "end_time": "2020-05-10T14:45:21.411085Z",
     "start_time": "2020-05-10T14:45:21.302538Z"
    }
   },
   "outputs": [],
   "source": [
    "#include <sstream>\n",
    "stringstream stream;\n",
    "stream.str(line);"
   ]
  },
  {
   "cell_type": "code",
   "execution_count": 132,
   "metadata": {
    "ExecuteTime": {
     "end_time": "2020-05-10T14:44:27.955361Z",
     "start_time": "2020-05-10T14:44:27.846695Z"
    }
   },
   "outputs": [],
   "source": [
    "// int num;\n",
    "// while (stream >> num) {\n",
    "//     cout << num << \" \";\n",
    "// }"
   ]
  },
  {
   "cell_type": "code",
   "execution_count": 133,
   "metadata": {},
   "outputs": [
    {
     "name": "stdout",
     "output_type": "stream",
     "text": [
      "10 11 12 16 18 23 29 "
     ]
    }
   ],
   "source": [
    "#include <vector> // 자동으로 크기가 할당되는 배열\n",
    "vector<int> num;\n",
    "int a;\n",
    "while (stream >> a) {\n",
    "    num.push_back(a);\n",
    "}\n",
    "for(int i = 0; i < num.size(); ++i) {\n",
    "    cout << num[i] << \" \";\n",
    "}"
   ]
  },
  {
   "cell_type": "markdown",
   "metadata": {},
   "source": [
    "# 이진탐색 의사코드\n",
    "```\n",
    "\n",
    "```"
   ]
  },
  {
   "cell_type": "code",
   "execution_count": null,
   "metadata": {},
   "outputs": [],
   "source": []
  }
 ],
 "metadata": {
  "kernelspec": {
   "display_name": "ROOT C++",
   "language": "c++",
   "name": "root"
  },
  "language_info": {
   "codemirror_mode": "text/x-c++src",
   "file_extension": ".C",
   "mimetype": " text/x-c++src",
   "name": "c++"
  },
  "latex_envs": {
   "LaTeX_envs_menu_present": true,
   "autoclose": false,
   "autocomplete": true,
   "bibliofile": "biblio.bib",
   "cite_by": "apalike",
   "current_citInitial": 1,
   "eqLabelWithNumbers": true,
   "eqNumInitial": 1,
   "hotkeys": {
    "equation": "Ctrl-E",
    "itemize": "Ctrl-I"
   },
   "labels_anchors": false,
   "latex_user_defs": false,
   "report_style_numbering": false,
   "user_envs_cfg": false
  }
 },
 "nbformat": 4,
 "nbformat_minor": 4
}

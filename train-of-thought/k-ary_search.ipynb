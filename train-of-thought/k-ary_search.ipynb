{
 "cells": [
  {
   "cell_type": "markdown",
   "metadata": {},
   "source": [
    "어떻게 분할 할것인가\n",
    "size = 10\n",
    "0 1 2 3 4 5 6 7 8 9\n",
    "k = 2 -> mid = (0 + 9) / 2 = 4"
   ]
  },
  {
   "cell_type": "code",
   "execution_count": 3,
   "metadata": {},
   "outputs": [
    {
     "name": "stdout",
     "output_type": "stream",
     "text": [
      "4\n"
     ]
    }
   ],
   "source": [
    "cout << (0 + 9) / 2 << endl;"
   ]
  },
  {
   "cell_type": "markdown",
   "metadata": {},
   "source": [
    "k = 3 -> mid = (0 + 9) / 3 = 3"
   ]
  },
  {
   "cell_type": "code",
   "execution_count": 4,
   "metadata": {},
   "outputs": [
    {
     "name": "stdout",
     "output_type": "stream",
     "text": [
      "3\n"
     ]
    }
   ],
   "source": [
    "cout << (0 + 9) / 3 << endl;"
   ]
  },
  {
   "cell_type": "code",
   "execution_count": 5,
   "metadata": {},
   "outputs": [
    {
     "name": "stdout",
     "output_type": "stream",
     "text": [
      "6\n"
     ]
    }
   ],
   "source": [
    "cout << (0 + 9) / 3 * 2 << endl;"
   ]
  },
  {
   "cell_type": "markdown",
   "metadata": {},
   "source": [
    "k = n 일때 mid 의 개수는 n - 1  \n",
    "ex) k = 2 -> mid number = 1;  \n",
    "ex) k = 3 -> mid number = 2;  \n",
    "mid의 값 일반화  \n",
    "k = k 이고 start = 0 , end = n 일때 mid 의값은 다음과 같다  \n",
    "(start + n) * 1/k (start + n) * 2/k ... (start + n) * k-1/k  \n",
    "이를 코드로 나타내면 다음과 같다"
   ]
  },
  {
   "cell_type": "code",
   "execution_count": 6,
   "metadata": {},
   "outputs": [
    {
     "name": "stdout",
     "output_type": "stream",
     "text": [
      "0 1 2 3 4 5 6 7 8 9 \n",
      "5 \n",
      "3 6 \n",
      "2 5 7 \n",
      "2 4 6 8 \n",
      "1 3 5 6 8 \n",
      "1 2 4 5 7 8 \n",
      "1 2 3 5 6 7 8 \n",
      "1 2 3 4 5 6 7 8 \n",
      "1 2 3 4 5 6 7 8 9 \n"
     ]
    }
   ],
   "source": [
    "int start = 0; int end = 9; int k = 3;\n",
    "for (int i = start; i < end + 1; ++i) {\n",
    "    cout << i << \" \";\n",
    "}\n",
    "cout << endl;\n",
    "for (int j = 2; j < end - start + 2; ++j) {\n",
    "    k = j;\n",
    "    for (int i = 1; i < k; ++i) {\n",
    "    cout << (start + end + 1) * i / k << \" \";\n",
    "    }\n",
    "    cout << endl;\n",
    "}"
   ]
  },
  {
   "cell_type": "markdown",
   "metadata": {},
   "source": [
    "start + end + 1 으로 설정했을시 start = 0 일때를 제외하면 분할이 잘 되지 않는다.  \n",
    "start = 0이라면 end + 1과 같은데 end + 1 은 결국 size와 같게 된다.  \n",
    "따라서 처음부터 size에 대해서 실행하고 start를 더하여 인덱스를 같게 한다.  "
   ]
  },
  {
   "cell_type": "code",
   "execution_count": 8,
   "metadata": {},
   "outputs": [
    {
     "name": "stdout",
     "output_type": "stream",
     "text": [
      "0 1 2 3 4 5 6 \n",
      "3 \n",
      "2 4 \n",
      "1 3 5 \n",
      "1 2 4 5 \n",
      "1 2 3 4 5 \n",
      "1 2 3 4 5 6 \n"
     ]
    }
   ],
   "source": [
    "int start = 0; int end = 6; int k;\n",
    "int size = end - start + 1;\n",
    "for (int i = start; i < end + 1; ++i) {\n",
    "    cout << i << \" \";\n",
    "}\n",
    "cout << endl;\n",
    "for (int j = 2; j < end - start + 2; ++j) {\n",
    "    k = j;\n",
    "    for (int i = 1; i < k; ++i) {\n",
    "    cout << start + size * i / k << \" \";\n",
    "    }\n",
    "    cout << endl;\n",
    "}"
   ]
  },
  {
   "cell_type": "markdown",
   "metadata": {},
   "source": [
    "o ~ 1-1 1+1 ~ 2-1 2+1 ~ 3-1 .... k-1+1 ~ k-1\n",
    "구간이 잘 나누어 지는지 확인"
   ]
  },
  {
   "cell_type": "code",
   "execution_count": 9,
   "metadata": {
    "scrolled": false
   },
   "outputs": [
    {
     "name": "stdout",
     "output_type": "stream",
     "text": [
      "0 1 2 3 4 5 6 \n",
      "3\n",
      "0 2\n",
      "else\n",
      "3 6\n",
      "\n",
      "2\n",
      "0 1\n",
      "4\n",
      "2 3\n",
      "else\n",
      "4 6\n",
      "\n",
      "1\n",
      "0 0\n",
      "3\n",
      "1 2\n",
      "5\n",
      "3 4\n",
      "else\n",
      "5 6\n",
      "\n",
      "1\n",
      "0 0\n",
      "2\n",
      "1 1\n",
      "4\n",
      "2 3\n",
      "5\n",
      "4 4\n",
      "else\n",
      "5 6\n",
      "\n",
      "1\n",
      "0 0\n",
      "2\n",
      "1 1\n",
      "3\n",
      "2 2\n",
      "4\n",
      "3 3\n",
      "5\n",
      "4 4\n",
      "else\n",
      "5 6\n",
      "\n",
      "1\n",
      "0 0\n",
      "2\n",
      "1 1\n",
      "3\n",
      "2 2\n",
      "4\n",
      "3 3\n",
      "5\n",
      "4 4\n",
      "6\n",
      "5 5\n",
      "else\n",
      "6 6\n",
      "\n"
     ]
    }
   ],
   "source": [
    "int start = 0; int end = 6; int k;\n",
    "int size = end - start + 1;\n",
    "for (int i = start; i < end + 1; ++i) {\n",
    "    cout << i << \" \";\n",
    "}\n",
    "cout << endl;\n",
    "for (int j = 2; j <= size; ++j) {\n",
    "    k = j;\n",
    "    for (int i = 1; i < k; ++i) {\n",
    "        cout << start + size * i / k << endl;\n",
    "        cout << start + (size * (i - 1) / k) << ' ' << start + size * i / k - 1 << endl;;\n",
    "    }\n",
    "    cout << \"else\" << endl;\n",
    "    cout << start + (size * (k - 1) / k) << ' ' << start + size * k / k - 1 << endl;\n",
    "    cout << endl;\n",
    "}"
   ]
  },
  {
   "cell_type": "markdown",
   "metadata": {},
   "source": [
    "1. k의 값은 최소 2이고, 배열의 사이즈보다 클수 없다 -> 큰 경우 작은경우 예외처리코드 삽입  \n",
    "2. 찾고자 하는 값이 존재하는 그룹 찾기 -> key 값이 A[mid] 보다 작은 경우 만족  \n",
    "2-1. 1번째 그룹에 속한다면 start 부터 mid - 1  \n",
    "2-2. 2번째 그룹 부터 k-1번째 그룹에 속한다면 이전 mid 값 + 1 부터 mid - 1  \n",
    "2-3. k번째 그룹에 속한다면 start = mid + 1 end = end이다.  \n",
    "3. 2-1과 2-2를 일반화하면 이전 mid 값 : temp = start - 1로 초기화 한다.  "
   ]
  },
  {
   "cell_type": "code",
   "execution_count": 10,
   "metadata": {},
   "outputs": [],
   "source": [
    "bool KarySearch(int A[], int k, int start, int end, int key) {\n",
    "    int size, mid, temp;\n",
    "    while (start <= end) {\n",
    "        size = end - start + 1;\n",
    "        k = size < k ? max(size, 2) : k;\n",
    "        temp = start - 1;\n",
    "        for (int i = 1; i < k; ++i) {\n",
    "            mid = start + size/k * i;\n",
    "            if (key == A[mid]) {\n",
    "                return true;\n",
    "            } else if (key < A[mid]) {\n",
    "                start = temp + 1;\n",
    "                end = mid - 1;\n",
    "                break;\n",
    "            } else if (k - i == 1){\n",
    "                start = mid + 1;\n",
    "            }\n",
    "            temp = mid;\n",
    "        }\n",
    "    }\n",
    "    return false;\n",
    "}"
   ]
  },
  {
   "cell_type": "code",
   "execution_count": 11,
   "metadata": {},
   "outputs": [
    {
     "name": "stdout",
     "output_type": "stream",
     "text": [
      "1"
     ]
    }
   ],
   "source": [
    "int A[7] = { 17, 28, 43, 67, 88, 92, 100 };\n",
    "cout << KarySearch(A, 2, 0, 6, 92);"
   ]
  },
  {
   "cell_type": "markdown",
   "metadata": {},
   "source": [
    "올바르게 작성하였는지 검증하기위해 [백준 1920 문제](https://www.acmicpc.net/problem/1920)를 위 함수를 이용하여 풀어보았다.  \n",
    "소스코드는 다음과 같다. k값과 실행시간은 증가한다. 따라서 k == 2 일때 최선 이진탐색이 효율적이다"
   ]
  },
  {
   "cell_type": "code",
   "execution_count": 4,
   "metadata": {},
   "outputs": [],
   "source": [
    "#include <iostream>\n",
    "#include <algorithm>\n",
    "#define MAX_SIZE 100001\n",
    "using namespace std;\n",
    "\n",
    "bool IsExist(int A[], int k, int start, int end, int key);\n",
    "\n",
    "int main(void) {\n",
    "  int N, M;\n",
    "  int A[MAX_SIZE] = {0, };\n",
    "  int key[MAX_SIZE] = {0, };\n",
    "  cin.tie(NULL);\n",
    "  ios_base::sync_with_stdio(false);\n",
    "  cin >> N;\n",
    "  for (int i = 0; i < N; ++i) {\n",
    "    cin >> A[i];\n",
    "  }\n",
    "  sort(A, A + N);\n",
    "  cin >> M;\n",
    "  for (int i = 0; i < M; ++i) {\n",
    "    cin >> key[i];\n",
    "    cout << IsExist(A, 2, 0, N-1, key[i]) << '\\n';\n",
    "  }\n",
    "}\n",
    "\n",
    "bool IsExist(int A[], int k, int start, int end, int key) {\n",
    "    int size, mid, temp;\n",
    "    while (start <= end) {\n",
    "        size = end - start + 1;\n",
    "        k = size < k ? max(size, 2) : k;\n",
    "        temp = start - 1;\n",
    "        for (int i = 1; i < k; ++i) {\n",
    "            mid = start + size/k * i;\n",
    "            if (key == A[mid]) {\n",
    "                return true;\n",
    "            } else if (key < A[mid]) {\n",
    "                start = temp + 1;\n",
    "                end = mid - 1;\n",
    "                break;\n",
    "            } else if (k - i == 1){\n",
    "                start = mid + 1;\n",
    "            }\n",
    "            temp = mid;\n",
    "        }\n",
    "    }\n",
    "    return false;\n",
    "}"
   ]
  },
  {
   "cell_type": "code",
   "execution_count": 8,
   "metadata": {},
   "outputs": [],
   "source": []
  },
  {
   "cell_type": "code",
   "execution_count": null,
   "metadata": {},
   "outputs": [],
   "source": []
  }
 ],
 "metadata": {
  "kernelspec": {
   "display_name": "ROOT C++",
   "language": "c++",
   "name": "root"
  },
  "language_info": {
   "codemirror_mode": "text/x-c++src",
   "file_extension": ".C",
   "mimetype": " text/x-c++src",
   "name": "c++"
  },
  "latex_envs": {
   "LaTeX_envs_menu_present": true,
   "autoclose": false,
   "autocomplete": true,
   "bibliofile": "biblio.bib",
   "cite_by": "apalike",
   "current_citInitial": 1,
   "eqLabelWithNumbers": true,
   "eqNumInitial": 1,
   "hotkeys": {
    "equation": "Ctrl-E",
    "itemize": "Ctrl-I"
   },
   "labels_anchors": false,
   "latex_user_defs": false,
   "report_style_numbering": false,
   "user_envs_cfg": false
  }
 },
 "nbformat": 4,
 "nbformat_minor": 4
}
